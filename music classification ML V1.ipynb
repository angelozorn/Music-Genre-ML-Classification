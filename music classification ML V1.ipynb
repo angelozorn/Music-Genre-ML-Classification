{
 "cells": [
  {
   "cell_type": "code",
   "execution_count": 4,
   "id": "7816bb1c",
   "metadata": {},
   "outputs": [
    {
     "name": "stdout",
     "output_type": "stream",
     "text": [
      "Requirement already satisfied: librosa in c:\\users\\z0rnhub\\anaconda3\\lib\\site-packages (0.9.0)\n",
      "Requirement already satisfied: scipy>=1.2.0 in c:\\users\\z0rnhub\\anaconda3\\lib\\site-packages (from librosa) (1.7.1)\n",
      "Requirement already satisfied: joblib>=0.14 in c:\\users\\z0rnhub\\anaconda3\\lib\\site-packages (from librosa) (1.1.0)\n",
      "Requirement already satisfied: audioread>=2.1.5 in c:\\users\\z0rnhub\\anaconda3\\lib\\site-packages (from librosa) (2.1.9)\n",
      "Requirement already satisfied: resampy>=0.2.2 in c:\\users\\z0rnhub\\anaconda3\\lib\\site-packages (from librosa) (0.2.2)\n",
      "Requirement already satisfied: decorator>=4.0.10 in c:\\users\\z0rnhub\\anaconda3\\lib\\site-packages (from librosa) (5.1.0)\n",
      "Requirement already satisfied: numpy>=1.17.0 in c:\\users\\z0rnhub\\anaconda3\\lib\\site-packages (from librosa) (1.20.3)\n",
      "Requirement already satisfied: scikit-learn>=0.19.1 in c:\\users\\z0rnhub\\anaconda3\\lib\\site-packages (from librosa) (0.24.2)\n",
      "Requirement already satisfied: numba>=0.45.1 in c:\\users\\z0rnhub\\anaconda3\\lib\\site-packages (from librosa) (0.54.1)\n",
      "Requirement already satisfied: packaging>=20.0 in c:\\users\\z0rnhub\\anaconda3\\lib\\site-packages (from librosa) (21.0)\n",
      "Requirement already satisfied: soundfile>=0.10.2 in c:\\users\\z0rnhub\\anaconda3\\lib\\site-packages (from librosa) (0.10.3.post1)\n",
      "Requirement already satisfied: pooch>=1.0 in c:\\users\\z0rnhub\\anaconda3\\lib\\site-packages (from librosa) (1.6.0)\n",
      "Requirement already satisfied: llvmlite<0.38,>=0.37.0rc1 in c:\\users\\z0rnhub\\anaconda3\\lib\\site-packages (from numba>=0.45.1->librosa) (0.37.0)\n",
      "Requirement already satisfied: setuptools in c:\\users\\z0rnhub\\anaconda3\\lib\\site-packages (from numba>=0.45.1->librosa) (58.0.4)\n",
      "Requirement already satisfied: pyparsing>=2.0.2 in c:\\users\\z0rnhub\\anaconda3\\lib\\site-packages (from packaging>=20.0->librosa) (3.0.4)\n",
      "Requirement already satisfied: requests>=2.19.0 in c:\\users\\z0rnhub\\anaconda3\\lib\\site-packages (from pooch>=1.0->librosa) (2.26.0)\n",
      "Requirement already satisfied: appdirs>=1.3.0 in c:\\users\\z0rnhub\\anaconda3\\lib\\site-packages (from pooch>=1.0->librosa) (1.4.4)\n",
      "Requirement already satisfied: certifi>=2017.4.17 in c:\\users\\z0rnhub\\anaconda3\\lib\\site-packages (from requests>=2.19.0->pooch>=1.0->librosa) (2021.10.8)\n",
      "Requirement already satisfied: idna<4,>=2.5 in c:\\users\\z0rnhub\\anaconda3\\lib\\site-packages (from requests>=2.19.0->pooch>=1.0->librosa) (3.2)\n",
      "Requirement already satisfied: urllib3<1.27,>=1.21.1 in c:\\users\\z0rnhub\\anaconda3\\lib\\site-packages (from requests>=2.19.0->pooch>=1.0->librosa) (1.26.7)\n",
      "Requirement already satisfied: charset-normalizer~=2.0.0 in c:\\users\\z0rnhub\\anaconda3\\lib\\site-packages (from requests>=2.19.0->pooch>=1.0->librosa) (2.0.4)\n",
      "Requirement already satisfied: six>=1.3 in c:\\users\\z0rnhub\\anaconda3\\lib\\site-packages (from resampy>=0.2.2->librosa) (1.16.0)\n",
      "Requirement already satisfied: threadpoolctl>=2.0.0 in c:\\users\\z0rnhub\\anaconda3\\lib\\site-packages (from scikit-learn>=0.19.1->librosa) (2.2.0)\n",
      "Requirement already satisfied: cffi>=1.0 in c:\\users\\z0rnhub\\anaconda3\\lib\\site-packages (from soundfile>=0.10.2->librosa) (1.14.6)\n",
      "Requirement already satisfied: pycparser in c:\\users\\z0rnhub\\anaconda3\\lib\\site-packages (from cffi>=1.0->soundfile>=0.10.2->librosa) (2.20)\n"
     ]
    }
   ],
   "source": [
    "import sys\n",
    "!{sys.executable} -m pip install librosa\n"
   ]
  },
  {
   "cell_type": "code",
   "execution_count": 3,
   "id": "1b706dac",
   "metadata": {},
   "outputs": [],
   "source": [
    "import librosa\n",
    "import librosa.feature\n",
    "import librosa.display"
   ]
  },
  {
   "cell_type": "code",
   "execution_count": 5,
   "id": "633d65a7",
   "metadata": {
    "scrolled": true
   },
   "outputs": [
    {
     "name": "stdout",
     "output_type": "stream",
     "text": [
      "Requirement already satisfied: keras in c:\\users\\z0rnhub\\anaconda3\\lib\\site-packages (2.8.0)\n",
      "Requirement already satisfied: tensorflow in c:\\users\\z0rnhub\\anaconda3\\lib\\site-packages (2.8.0)\n",
      "Requirement already satisfied: absl-py>=0.4.0 in c:\\users\\z0rnhub\\anaconda3\\lib\\site-packages (from tensorflow) (1.0.0)\n",
      "Requirement already satisfied: google-pasta>=0.1.1 in c:\\users\\z0rnhub\\anaconda3\\lib\\site-packages (from tensorflow) (0.2.0)\n",
      "Requirement already satisfied: tensorflow-io-gcs-filesystem>=0.23.1 in c:\\users\\z0rnhub\\anaconda3\\lib\\site-packages (from tensorflow) (0.24.0)\n",
      "Requirement already satisfied: flatbuffers>=1.12 in c:\\users\\z0rnhub\\anaconda3\\lib\\site-packages (from tensorflow) (2.0)\n",
      "Requirement already satisfied: gast>=0.2.1 in c:\\users\\z0rnhub\\anaconda3\\lib\\site-packages (from tensorflow) (0.5.3)\n",
      "Requirement already satisfied: astunparse>=1.6.0 in c:\\users\\z0rnhub\\anaconda3\\lib\\site-packages (from tensorflow) (1.6.3)\n",
      "Requirement already satisfied: termcolor>=1.1.0 in c:\\users\\z0rnhub\\anaconda3\\lib\\site-packages (from tensorflow) (1.1.0)\n",
      "Requirement already satisfied: tf-estimator-nightly==2.8.0.dev2021122109 in c:\\users\\z0rnhub\\anaconda3\\lib\\site-packages (from tensorflow) (2.8.0.dev2021122109)\n",
      "Requirement already satisfied: typing-extensions>=3.6.6 in c:\\users\\z0rnhub\\anaconda3\\lib\\site-packages (from tensorflow) (3.10.0.2)\n",
      "Requirement already satisfied: tensorboard<2.9,>=2.8 in c:\\users\\z0rnhub\\anaconda3\\lib\\site-packages (from tensorflow) (2.8.0)\n",
      "Requirement already satisfied: libclang>=9.0.1 in c:\\users\\z0rnhub\\anaconda3\\lib\\site-packages (from tensorflow) (13.0.0)\n",
      "Requirement already satisfied: grpcio<2.0,>=1.24.3 in c:\\users\\z0rnhub\\anaconda3\\lib\\site-packages (from tensorflow) (1.43.0)\n",
      "Requirement already satisfied: keras<2.9,>=2.8.0rc0 in c:\\users\\z0rnhub\\anaconda3\\lib\\site-packages (from tensorflow) (2.8.0)\n",
      "Requirement already satisfied: six>=1.12.0 in c:\\users\\z0rnhub\\anaconda3\\lib\\site-packages (from tensorflow) (1.16.0)\n",
      "Requirement already satisfied: setuptools in c:\\users\\z0rnhub\\anaconda3\\lib\\site-packages (from tensorflow) (58.0.4)\n",
      "Requirement already satisfied: numpy>=1.20 in c:\\users\\z0rnhub\\anaconda3\\lib\\site-packages (from tensorflow) (1.20.3)\n",
      "Requirement already satisfied: h5py>=2.9.0 in c:\\users\\z0rnhub\\anaconda3\\lib\\site-packages (from tensorflow) (3.2.1)\n",
      "Requirement already satisfied: opt-einsum>=2.3.2 in c:\\users\\z0rnhub\\anaconda3\\lib\\site-packages (from tensorflow) (3.3.0)\n",
      "Requirement already satisfied: protobuf>=3.9.2 in c:\\users\\z0rnhub\\anaconda3\\lib\\site-packages (from tensorflow) (3.19.4)\n",
      "Requirement already satisfied: keras-preprocessing>=1.1.1 in c:\\users\\z0rnhub\\anaconda3\\lib\\site-packages (from tensorflow) (1.1.2)\n",
      "Requirement already satisfied: wrapt>=1.11.0 in c:\\users\\z0rnhub\\anaconda3\\lib\\site-packages (from tensorflow) (1.12.1)\n",
      "Requirement already satisfied: wheel<1.0,>=0.23.0 in c:\\users\\z0rnhub\\anaconda3\\lib\\site-packages (from astunparse>=1.6.0->tensorflow) (0.37.0)\n",
      "Requirement already satisfied: requests<3,>=2.21.0 in c:\\users\\z0rnhub\\anaconda3\\lib\\site-packages (from tensorboard<2.9,>=2.8->tensorflow) (2.26.0)\n",
      "Requirement already satisfied: tensorboard-data-server<0.7.0,>=0.6.0 in c:\\users\\z0rnhub\\anaconda3\\lib\\site-packages (from tensorboard<2.9,>=2.8->tensorflow) (0.6.1)\n",
      "Requirement already satisfied: google-auth-oauthlib<0.5,>=0.4.1 in c:\\users\\z0rnhub\\anaconda3\\lib\\site-packages (from tensorboard<2.9,>=2.8->tensorflow) (0.4.6)\n",
      "Requirement already satisfied: google-auth<3,>=1.6.3 in c:\\users\\z0rnhub\\anaconda3\\lib\\site-packages (from tensorboard<2.9,>=2.8->tensorflow) (2.6.0)\n",
      "Requirement already satisfied: markdown>=2.6.8 in c:\\users\\z0rnhub\\anaconda3\\lib\\site-packages (from tensorboard<2.9,>=2.8->tensorflow) (3.3.6)\n",
      "Requirement already satisfied: werkzeug>=0.11.15 in c:\\users\\z0rnhub\\anaconda3\\lib\\site-packages (from tensorboard<2.9,>=2.8->tensorflow) (2.0.2)\n",
      "Requirement already satisfied: tensorboard-plugin-wit>=1.6.0 in c:\\users\\z0rnhub\\anaconda3\\lib\\site-packages (from tensorboard<2.9,>=2.8->tensorflow) (1.8.1)\n",
      "Requirement already satisfied: rsa<5,>=3.1.4 in c:\\users\\z0rnhub\\anaconda3\\lib\\site-packages (from google-auth<3,>=1.6.3->tensorboard<2.9,>=2.8->tensorflow) (4.8)\n",
      "Requirement already satisfied: pyasn1-modules>=0.2.1 in c:\\users\\z0rnhub\\anaconda3\\lib\\site-packages (from google-auth<3,>=1.6.3->tensorboard<2.9,>=2.8->tensorflow) (0.2.8)\n",
      "Requirement already satisfied: cachetools<6.0,>=2.0.0 in c:\\users\\z0rnhub\\anaconda3\\lib\\site-packages (from google-auth<3,>=1.6.3->tensorboard<2.9,>=2.8->tensorflow) (5.0.0)\n",
      "Requirement already satisfied: requests-oauthlib>=0.7.0 in c:\\users\\z0rnhub\\anaconda3\\lib\\site-packages (from google-auth-oauthlib<0.5,>=0.4.1->tensorboard<2.9,>=2.8->tensorflow) (1.3.1)\n",
      "Requirement already satisfied: importlib-metadata>=4.4 in c:\\users\\z0rnhub\\anaconda3\\lib\\site-packages (from markdown>=2.6.8->tensorboard<2.9,>=2.8->tensorflow) (4.8.1)\n",
      "Requirement already satisfied: zipp>=0.5 in c:\\users\\z0rnhub\\anaconda3\\lib\\site-packages (from importlib-metadata>=4.4->markdown>=2.6.8->tensorboard<2.9,>=2.8->tensorflow) (3.6.0)\n",
      "Requirement already satisfied: pyasn1<0.5.0,>=0.4.6 in c:\\users\\z0rnhub\\anaconda3\\lib\\site-packages (from pyasn1-modules>=0.2.1->google-auth<3,>=1.6.3->tensorboard<2.9,>=2.8->tensorflow) (0.4.8)\n",
      "Requirement already satisfied: certifi>=2017.4.17 in c:\\users\\z0rnhub\\anaconda3\\lib\\site-packages (from requests<3,>=2.21.0->tensorboard<2.9,>=2.8->tensorflow) (2021.10.8)\n",
      "Requirement already satisfied: urllib3<1.27,>=1.21.1 in c:\\users\\z0rnhub\\anaconda3\\lib\\site-packages (from requests<3,>=2.21.0->tensorboard<2.9,>=2.8->tensorflow) (1.26.7)\n",
      "Requirement already satisfied: charset-normalizer~=2.0.0 in c:\\users\\z0rnhub\\anaconda3\\lib\\site-packages (from requests<3,>=2.21.0->tensorboard<2.9,>=2.8->tensorflow) (2.0.4)\n",
      "Requirement already satisfied: idna<4,>=2.5 in c:\\users\\z0rnhub\\anaconda3\\lib\\site-packages (from requests<3,>=2.21.0->tensorboard<2.9,>=2.8->tensorflow) (3.2)\n",
      "Requirement already satisfied: oauthlib>=3.0.0 in c:\\users\\z0rnhub\\anaconda3\\lib\\site-packages (from requests-oauthlib>=0.7.0->google-auth-oauthlib<0.5,>=0.4.1->tensorboard<2.9,>=2.8->tensorflow) (3.2.0)\n"
     ]
    }
   ],
   "source": [
    "!{sys.executable} -m pip install keras\n",
    "!{sys.executable} -m pip install tensorflow"
   ]
  },
  {
   "cell_type": "code",
   "execution_count": 6,
   "id": "01447912",
   "metadata": {},
   "outputs": [],
   "source": [
    "import glob\n",
    "import numpy as np\n",
    "import matplotlib.pyplot as plt\n",
    "from keras.models import Sequential\n",
    "from keras.layers import Dense, Activation\n",
    "from keras.utils.np_utils import to_categorical"
   ]
  },
  {
   "cell_type": "code",
   "execution_count": 50,
   "id": "d230962d",
   "metadata": {},
   "outputs": [],
   "source": [
    "def display_mfcc(aud):\n",
    "    values, sr = librosa.load(aud)\n",
    "    \n",
    "    mfcc = librosa.feature.mfcc(y = values, sr=sr)\n",
    "\n",
    "    plt.figure(figsize=(10, 4))\n",
    "    librosa.display.specshow(mfcc, x_axis='time', y_axis='mel')\n",
    "    plt.colorbar()\n",
    "    plt.title(song)\n",
    "    plt.tight_layout()\n",
    "    plt.show()"
   ]
  },
  {
   "cell_type": "code",
   "execution_count": 7,
   "id": "d6bb83ad",
   "metadata": {},
   "outputs": [],
   "source": [
    "def extract_features_song(aud):\n",
    "    values, sr = librosa.load(aud)\n",
    "\n",
    "    \n",
    "    mfcc = librosa.feature.mfcc(y = values, sr=sr)\n",
    "    # normalize mfcc values\n",
    "    mfcc /= np.amax(np.absolute(mfcc))\n",
    "\n",
    "    return np.ndarray.flatten(mfcc)[:25000]"
   ]
  },
  {
   "cell_type": "code",
   "execution_count": 104,
   "id": "a6e24c6e",
   "metadata": {},
   "outputs": [
    {
     "data": {
      "image/png": "[encoded data removed]",
      "text/plain": [
       "<Figure size 720x288 with 2 Axes>"
      ]
     },
     "metadata": {
      "needs_background": "light"
     },
     "output_type": "display_data"
    }
   ],
   "source": [
    "display_mfcc('country/country.00001.au') "
   ]
  },
  {
   "cell_type": "code",
   "execution_count": 8,
   "id": "d9c0cdfd",
   "metadata": {},
   "outputs": [],
   "source": [
    "def generate_features_and_labels():\n",
    "    all_features = []\n",
    "    all_labels = []\n",
    "    \n",
    "    \n",
    "\n",
    "    genres = ['blues', 'classical', 'country', 'disco', 'hiphop', 'jazz', 'metal', 'pop', 'reggae', 'rock']\n",
    "    for genre in genres:\n",
    "        sound_files = glob.glob(genre+\"/*.au\")\n",
    "        print('Processing %d songs in %s genre...' % (len(sound_files), genre)) \n",
    "        for aud in sound_files:\n",
    "            features = extract_features_song(aud)\n",
    "            all_features.append(features)\n",
    "            all_labels.append(genre)\n",
    "\n",
    "    # one-hot encoding of genre\n",
    "    \n",
    "    label_uniq_ids, label_row_ids = np.unique(all_labels, return_inverse=True)\n",
    "    \n",
    "    label_row_ids = label_row_ids.astype(np.int32, copy=False)\n",
    "    onehot_labels = to_categorical(label_row_ids, len(label_uniq_ids))\n",
    "    return np.stack(all_features), onehot_labels"
   ]
  },
  {
   "cell_type": "code",
   "execution_count": 9,
   "id": "77e847d1",
   "metadata": {},
   "outputs": [
    {
     "name": "stdout",
     "output_type": "stream",
     "text": [
      "Processing 100 songs in blues genre...\n",
      "Processing 100 songs in classical genre...\n",
      "Processing 100 songs in country genre...\n",
      "Processing 100 songs in disco genre...\n",
      "Processing 100 songs in hiphop genre...\n",
      "Processing 100 songs in jazz genre...\n",
      "Processing 100 songs in metal genre...\n",
      "Processing 100 songs in pop genre...\n",
      "Processing 100 songs in reggae genre...\n",
      "Processing 100 songs in rock genre...\n"
     ]
    }
   ],
   "source": [
    "features, labels = generate_features_and_labels()\n"
   ]
  },
  {
   "cell_type": "code",
   "execution_count": 10,
   "id": "69db40ea",
   "metadata": {},
   "outputs": [
    {
     "name": "stdout",
     "output_type": "stream",
     "text": [
      "(1000, 25000)\n",
      "(1000, 10)\n",
      "(800, 25010)\n",
      "(200, 25010)\n",
      "(800, 25000)\n",
      "(800, 10)\n"
     ]
    }
   ],
   "source": [
    "print(np.shape(features))\n",
    "print(np.shape(labels))\n",
    "\n",
    "training_split = 0.8\n",
    "\n",
    "alldata = np.column_stack((features, labels))\n",
    "\n",
    "#random splitting of training and testing data\n",
    "np.random.shuffle(alldata)\n",
    "splitidx = int(len(alldata) * training_split)\n",
    "train, test = alldata[:splitidx,:], alldata[splitidx:,:]\n",
    "\n",
    "print(np.shape(train))\n",
    "print(np.shape(test))\n",
    "\n",
    "train_input = train[:,:-10]\n",
    "train_labels = train[:,-10:]\n",
    "\n",
    "test_input = test[:,:-10]\n",
    "test_labels = test[:,-10:]\n",
    "\n",
    "print(np.shape(train_input))\n",
    "print(np.shape(train_labels))"
   ]
  },
  {
   "cell_type": "code",
   "execution_count": 11,
   "id": "da587f7a",
   "metadata": {},
   "outputs": [],
   "source": [
    "from keras.models import Sequential\n",
    "from keras.layers import Dense, Activation\n",
    "from keras.utils.np_utils import to_categorical"
   ]
  },
  {
   "cell_type": "code",
   "execution_count": 15,
   "id": "8177c6a9",
   "metadata": {},
   "outputs": [
    {
     "name": "stdout",
     "output_type": "stream",
     "text": [
      "Model: \"sequential_3\"\n",
      "_________________________________________________________________\n",
      " Layer (type)                Output Shape              Param #   \n",
      "=================================================================\n",
      " dense_6 (Dense)             (None, 100)               2500100   \n",
      "                                                                 \n",
      " activation_6 (Activation)   (None, 100)               0         \n",
      "                                                                 \n",
      " dense_7 (Dense)             (None, 10)                1010      \n",
      "                                                                 \n",
      " activation_7 (Activation)   (None, 10)                0         \n",
      "                                                                 \n",
      "=================================================================\n",
      "Total params: 2,501,110\n",
      "Trainable params: 2,501,110\n",
      "Non-trainable params: 0\n",
      "_________________________________________________________________\n",
      "None\n",
      "Epoch 1/40\n",
      "20/20 [==============================] - 0s 12ms/step - loss: 2.1068 - accuracy: 0.2484 - val_loss: 1.5221 - val_accuracy: 0.4500\n",
      "Epoch 2/40\n",
      "20/20 [==============================] - 0s 8ms/step - loss: 1.4556 - accuracy: 0.4859 - val_loss: 1.4160 - val_accuracy: 0.5250\n",
      "Epoch 3/40\n",
      "20/20 [==============================] - 0s 8ms/step - loss: 1.1586 - accuracy: 0.6281 - val_loss: 1.5034 - val_accuracy: 0.4625\n",
      "Epoch 4/40\n",
      "20/20 [==============================] - 0s 8ms/step - loss: 0.8996 - accuracy: 0.7109 - val_loss: 1.3352 - val_accuracy: 0.5063\n",
      "Epoch 5/40\n",
      "20/20 [==============================] - 0s 9ms/step - loss: 0.7669 - accuracy: 0.7594 - val_loss: 1.3411 - val_accuracy: 0.5437\n",
      "Epoch 6/40\n",
      "20/20 [==============================] - 0s 9ms/step - loss: 0.5920 - accuracy: 0.8578 - val_loss: 1.2950 - val_accuracy: 0.5375\n",
      "Epoch 7/40\n",
      "20/20 [==============================] - 0s 9ms/step - loss: 0.4609 - accuracy: 0.9094 - val_loss: 1.2393 - val_accuracy: 0.5562\n",
      "Epoch 8/40\n",
      "20/20 [==============================] - 0s 9ms/step - loss: 0.3243 - accuracy: 0.9625 - val_loss: 1.3511 - val_accuracy: 0.5188\n",
      "Epoch 9/40\n",
      "20/20 [==============================] - 0s 9ms/step - loss: 0.2546 - accuracy: 0.9766 - val_loss: 1.3156 - val_accuracy: 0.5250\n",
      "Epoch 10/40\n",
      "20/20 [==============================] - 0s 9ms/step - loss: 0.2056 - accuracy: 0.9859 - val_loss: 1.2504 - val_accuracy: 0.5750\n",
      "Epoch 11/40\n",
      "20/20 [==============================] - 0s 9ms/step - loss: 0.1627 - accuracy: 0.9953 - val_loss: 1.2407 - val_accuracy: 0.5250\n",
      "Epoch 12/40\n",
      "20/20 [==============================] - 0s 9ms/step - loss: 0.1372 - accuracy: 0.9969 - val_loss: 1.3383 - val_accuracy: 0.5312\n",
      "Epoch 13/40\n",
      "20/20 [==============================] - 0s 9ms/step - loss: 0.1118 - accuracy: 1.0000 - val_loss: 1.2827 - val_accuracy: 0.5562\n",
      "Epoch 14/40\n",
      "20/20 [==============================] - 0s 9ms/step - loss: 0.0905 - accuracy: 1.0000 - val_loss: 1.3338 - val_accuracy: 0.5312\n",
      "Epoch 15/40\n",
      "20/20 [==============================] - 0s 9ms/step - loss: 0.0765 - accuracy: 1.0000 - val_loss: 1.2865 - val_accuracy: 0.5375\n",
      "Epoch 16/40\n",
      "20/20 [==============================] - 0s 9ms/step - loss: 0.0654 - accuracy: 1.0000 - val_loss: 1.3399 - val_accuracy: 0.5625\n",
      "Epoch 17/40\n",
      "20/20 [==============================] - 0s 9ms/step - loss: 0.0564 - accuracy: 1.0000 - val_loss: 1.3203 - val_accuracy: 0.5437\n",
      "Epoch 18/40\n",
      "20/20 [==============================] - 0s 9ms/step - loss: 0.0477 - accuracy: 1.0000 - val_loss: 1.3217 - val_accuracy: 0.5688\n",
      "Epoch 19/40\n",
      "20/20 [==============================] - 0s 9ms/step - loss: 0.0417 - accuracy: 1.0000 - val_loss: 1.3431 - val_accuracy: 0.5375\n",
      "Epoch 20/40\n",
      "20/20 [==============================] - 0s 9ms/step - loss: 0.0369 - accuracy: 1.0000 - val_loss: 1.3508 - val_accuracy: 0.5312\n",
      "Epoch 21/40\n",
      "20/20 [==============================] - 0s 9ms/step - loss: 0.0345 - accuracy: 1.0000 - val_loss: 1.3557 - val_accuracy: 0.5437\n",
      "Epoch 22/40\n",
      "20/20 [==============================] - 0s 9ms/step - loss: 0.0301 - accuracy: 1.0000 - val_loss: 1.3611 - val_accuracy: 0.5500\n",
      "Epoch 23/40\n",
      "20/20 [==============================] - 0s 9ms/step - loss: 0.0273 - accuracy: 1.0000 - val_loss: 1.3538 - val_accuracy: 0.5625\n",
      "Epoch 24/40\n",
      "20/20 [==============================] - 0s 9ms/step - loss: 0.0243 - accuracy: 1.0000 - val_loss: 1.3456 - val_accuracy: 0.5500\n",
      "Epoch 25/40\n",
      "20/20 [==============================] - 0s 9ms/step - loss: 0.0224 - accuracy: 1.0000 - val_loss: 1.3485 - val_accuracy: 0.5625\n",
      "Epoch 26/40\n",
      "20/20 [==============================] - 0s 9ms/step - loss: 0.0202 - accuracy: 1.0000 - val_loss: 1.3786 - val_accuracy: 0.5437\n",
      "Epoch 27/40\n",
      "20/20 [==============================] - 0s 9ms/step - loss: 0.0185 - accuracy: 1.0000 - val_loss: 1.3783 - val_accuracy: 0.5500\n",
      "Epoch 28/40\n",
      "20/20 [==============================] - 0s 9ms/step - loss: 0.0174 - accuracy: 1.0000 - val_loss: 1.3808 - val_accuracy: 0.5500\n",
      "Epoch 29/40\n",
      "20/20 [==============================] - 0s 9ms/step - loss: 0.0162 - accuracy: 1.0000 - val_loss: 1.3881 - val_accuracy: 0.5562\n",
      "Epoch 30/40\n",
      "20/20 [==============================] - 0s 9ms/step - loss: 0.0152 - accuracy: 1.0000 - val_loss: 1.3907 - val_accuracy: 0.5688\n",
      "Epoch 31/40\n",
      "20/20 [==============================] - 0s 9ms/step - loss: 0.0139 - accuracy: 1.0000 - val_loss: 1.4013 - val_accuracy: 0.5750\n",
      "Epoch 32/40\n",
      "20/20 [==============================] - 0s 9ms/step - loss: 0.0130 - accuracy: 1.0000 - val_loss: 1.4172 - val_accuracy: 0.5500\n",
      "Epoch 33/40\n",
      "20/20 [==============================] - 0s 9ms/step - loss: 0.0122 - accuracy: 1.0000 - val_loss: 1.4408 - val_accuracy: 0.5437\n",
      "Epoch 34/40\n",
      "20/20 [==============================] - 0s 9ms/step - loss: 0.0115 - accuracy: 1.0000 - val_loss: 1.4153 - val_accuracy: 0.5625\n",
      "Epoch 35/40\n",
      "20/20 [==============================] - 0s 9ms/step - loss: 0.0109 - accuracy: 1.0000 - val_loss: 1.4214 - val_accuracy: 0.5750\n",
      "Epoch 36/40\n",
      "20/20 [==============================] - 0s 9ms/step - loss: 0.0103 - accuracy: 1.0000 - val_loss: 1.4213 - val_accuracy: 0.5562\n",
      "Epoch 37/40\n",
      "20/20 [==============================] - 0s 9ms/step - loss: 0.0097 - accuracy: 1.0000 - val_loss: 1.4539 - val_accuracy: 0.5437\n",
      "Epoch 38/40\n",
      "20/20 [==============================] - 0s 9ms/step - loss: 0.0091 - accuracy: 1.0000 - val_loss: 1.4471 - val_accuracy: 0.5437\n",
      "Epoch 39/40\n",
      "20/20 [==============================] - 0s 9ms/step - loss: 0.0086 - accuracy: 1.0000 - val_loss: 1.4508 - val_accuracy: 0.5562\n",
      "Epoch 40/40\n",
      "20/20 [==============================] - 0s 8ms/step - loss: 0.0082 - accuracy: 1.0000 - val_loss: 1.4584 - val_accuracy: 0.5562\n",
      "7/7 [==============================] - 0s 2ms/step - loss: 1.3806 - accuracy: 0.6000\n",
      "Done!\n",
      "Loss: 1.3806, accuracy: 0.6000\n"
     ]
    }
   ],
   "source": [
    "model = Sequential([\n",
    "    Dense(100, input_dim=np.shape(train_input)[1]),\n",
    "    Activation('relu'),\n",
    "    Dense(10),\n",
    "    Activation('softmax'),\n",
    "    ])\n",
    "\n",
    "model.compile(optimizer='adam',\n",
    "              loss='categorical_crossentropy',\n",
    "              metrics=['accuracy'])\n",
    "print(model.summary())\n",
    "\n",
    "model.fit(train_input, train_labels, epochs=40, batch_size=32,\n",
    "          validation_split=0.2)\n",
    "\n",
    "loss, acc = model.evaluate(test_input, test_labels, batch_size=32)\n",
    "\n",
    "print(\"Done!\")\n",
    "print(\"Loss: %.4f, accuracy: %.4f\" % (loss, acc))"
   ]
  },
  {
   "cell_type": "code",
   "execution_count": null,
   "id": "c83c6ae7",
   "metadata": {},
   "outputs": [],
   "source": []
  }
 ],
 "metadata": {
  "kernelspec": {
   "display_name": "Python 3 (ipykernel)",
   "language": "python",
   "name": "python3"
  },
  "language_info": {
   "codemirror_mode": {
    "name": "ipython",
    "version": 3
   },
   "file_extension": ".py",
   "mimetype": "text/x-python",
   "name": "python",
   "nbconvert_exporter": "python",
   "pygments_lexer": "ipython3",
   "version": "3.9.7"
  }
 },
 "nbformat": 4,
 "nbformat_minor": 5
}
